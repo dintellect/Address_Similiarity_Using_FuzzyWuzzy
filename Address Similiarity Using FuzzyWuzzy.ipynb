{
 "cells": [
  {
   "cell_type": "markdown",
   "metadata": {},
   "source": [
    "#### Install FuzzyWuzzy"
   ]
  },
  {
   "cell_type": "code",
   "execution_count": 2,
   "metadata": {
    "collapsed": true
   },
   "outputs": [
    {
     "name": "stdout",
     "output_type": "stream",
     "text": [
      "Collecting package metadata (current_repodata.json): ...working... done\n",
      "Solving environment: ...working... done\n",
      "\n",
      "## Package Plan ##\n",
      "\n",
      "  environment location: C:\\Users\\akshe\\AppData\\Local\\Continuum\\anaconda3\n",
      "\n",
      "  added / updated specs:\n",
      "    - fuzzywuzzy\n",
      "\n",
      "\n",
      "The following packages will be downloaded:\n",
      "\n",
      "    package                    |            build\n",
      "    ---------------------------|-----------------\n",
      "    conda-4.8.2                |           py37_0         3.0 MB  conda-forge\n",
      "    ------------------------------------------------------------\n",
      "                                           Total:         3.0 MB\n",
      "\n",
      "The following packages will be UPDATED:\n",
      "\n",
      "  conda                                        4.8.0-py37_1 --> 4.8.2-py37_0\n",
      "\n",
      "\n",
      "\n",
      "Downloading and Extracting Packages\n",
      "\n",
      "conda-4.8.2          | 3.0 MB    |            |   0% \n",
      "conda-4.8.2          | 3.0 MB    |            |   1% \n",
      "conda-4.8.2          | 3.0 MB    | #2         |  12% \n",
      "conda-4.8.2          | 3.0 MB    | ###4       |  34% \n",
      "conda-4.8.2          | 3.0 MB    | #####5     |  56% \n",
      "conda-4.8.2          | 3.0 MB    | ########4  |  85% \n",
      "conda-4.8.2          | 3.0 MB    | ########## | 100% \n",
      "Preparing transaction: ...working... done\n",
      "Verifying transaction: ...working... done\n",
      "Executing transaction: ...working... done\n",
      "\n",
      "Note: you may need to restart the kernel to use updated packages.\n"
     ]
    }
   ],
   "source": [
    "conda install -c conda-forge fuzzywuzzy "
   ]
  },
  {
   "cell_type": "markdown",
   "metadata": {},
   "source": [
    "#### Import NLTK"
   ]
  },
  {
   "cell_type": "code",
   "execution_count": 3,
   "metadata": {},
   "outputs": [
    {
     "name": "stderr",
     "output_type": "stream",
     "text": [
      "[nltk_data] Downloading package stopwords to\n",
      "[nltk_data]     C:\\Users\\akshe\\AppData\\Roaming\\nltk_data...\n",
      "[nltk_data]   Package stopwords is already up-to-date!\n",
      "[nltk_data] Downloading package punkt to\n",
      "[nltk_data]     C:\\Users\\akshe\\AppData\\Roaming\\nltk_data...\n",
      "[nltk_data]   Package punkt is already up-to-date!\n"
     ]
    },
    {
     "data": {
      "text/plain": [
       "True"
      ]
     },
     "execution_count": 3,
     "metadata": {},
     "output_type": "execute_result"
    }
   ],
   "source": [
    "import nltk\n",
    "nltk.download('stopwords')\n",
    "nltk.download('punkt')"
   ]
  },
  {
   "cell_type": "code",
   "execution_count": null,
   "metadata": {},
   "outputs": [],
   "source": [
    "quer1 = \"FLAT NO 406 FOURTH FLOOR 2,KRISHNA DHAMPLOT 1,EDEN PARK,SHIVAR GARDAN NAVGHAR,BHAYANDAR EAST,THANE,Maharashtra,\"\n",
    "#Tokenization\n",
    "tokens = word_tokenize(quer1.replace(\",\",\" \"))\n",
    "result = [i for i in tokens if not i in stop_words]\n",
    "tok = result"
   ]
  },
  {
   "cell_type": "markdown",
   "metadata": {},
   "source": [
    "**Extract Zip Code**"
   ]
  },
  {
   "cell_type": "code",
   "execution_count": 4,
   "metadata": {},
   "outputs": [
    {
     "data": {
      "text/plain": [
       "['401105']"
      ]
     },
     "execution_count": 4,
     "metadata": {},
     "output_type": "execute_result"
    }
   ],
   "source": [
    "import re\n",
    "quer1 = \"FLAT NO 406 FOURTH FLOOR,KRISHNA DHAM,EDEN PARK,SHIVAR GARDAN NAVGHAR,BHAYANDAR EAST,THANE,Maharashtra,\"\n",
    "quer  = \"FLAT NO 406 FOURTH FLOOR, KRISHNA DHAM, EDEN PARK, SHIVAR GARDAN NAVGHAR, BHAYANDAR EAST, THANE, 401105, Maharashtra,INDIA\"\n",
    "regex = re.compile(r'\\b(\\d{6})\\b')\n",
    "regex.findall(str(quer))"
   ]
  },
  {
   "cell_type": "code",
   "execution_count": 5,
   "metadata": {},
   "outputs": [],
   "source": [
    "import json\n",
    "from nltk import ngrams\n",
    "states_list = json.load(open(\"\\\\States.json\"))\n",
    "district_list = json.load(open(\"\\\\District.py\"))\n",
    "city_list   = json.load(open(\"\\\\City.py\"))"
   ]
  },
  {
   "cell_type": "markdown",
   "metadata": {},
   "source": [
    "## Extract State, City & District from Given Address"
   ]
  },
  {
   "cell_type": "code",
   "execution_count": 6,
   "metadata": {},
   "outputs": [],
   "source": [
    "def find_state(add):\n",
    "    for key,value in states_list.items():\n",
    "        if (key.lower() == add.lower())or (value.lower() == add.lower()):\n",
    "            #print(\"State\",add)\n",
    "            return add\n",
    "def find_city(add):\n",
    "    for i in city_list:\n",
    "        if (i.lower() == add.lower()):\n",
    "            return add\n",
    "def find_district(add):\n",
    "    for i in district_list:\n",
    "        if (i.lower() == add.lower()):\n",
    "            return add"
   ]
  },
  {
   "cell_type": "code",
   "execution_count": 7,
   "metadata": {},
   "outputs": [],
   "source": [
    "query = quer.replace(\",\",\" \")\n",
    "st = []\n",
    "ct = []\n",
    "dt = []\n",
    "for n in range(2, 0, -1):\n",
    "    for query_token in ngrams(query.split(), n):\n",
    "        qry_part = ' '.join(query_token)\n",
    "        st.append(find_state(qry_part))\n",
    "        ct.append(find_city(qry_part))\n",
    "        dt.append(find_district(qry_part)) \n",
    "    city = next((item for item in ct if item is not None), 'None')\n",
    "    dist = next((item for item in dt if item is not None), 'None')\n",
    "    state = next((item for item in st if item is not None), 'None')"
   ]
  },
  {
   "cell_type": "code",
   "execution_count": 8,
   "metadata": {},
   "outputs": [
    {
     "data": {
      "text/plain": [
       "('Maharashtra', 'THANE', 'KRISHNA')"
      ]
     },
     "execution_count": 8,
     "metadata": {},
     "output_type": "execute_result"
    }
   ],
   "source": [
    "state,city,dist"
   ]
  },
  {
   "cell_type": "markdown",
   "metadata": {},
   "source": [
    "## SIMILIARITY OF ADDRESSES"
   ]
  },
  {
   "cell_type": "code",
   "execution_count": 9,
   "metadata": {},
   "outputs": [
    {
     "name": "stdout",
     "output_type": "stream",
     "text": [
      "Fuzz Ratio: 92\n",
      "Partial Fuzz Ratio: 88\n",
      "Token_Sort_Ratio: 94\n",
      "Token_Set_Ratio: 100\n",
      "W_Ratio: 95\n"
     ]
    }
   ],
   "source": [
    "from fuzzywuzzy import fuzz\n",
    "#ratio function computes the standard Levenshtein distance similarity ratio between two sequences\n",
    "print(\"Fuzz Ratio:\",fuzz.ratio(quer1,quer))\n",
    "#similiar to fuzz ratio but won't consider all the small details like stop words, punctuations, capital letters \n",
    "print(\"Partial Fuzz Ratio:\",fuzz.partial_ratio(quer1,quer))\n",
    "# tokenize the strings and preprocess them by turning them to lower case and getting rid of punctuation ignoring word order \n",
    "print(\"Token_Sort_Ratio:\",fuzz.token_sort_ratio(quer1,quer))\n",
    "#similar with token sort ratio, but a little bit more flexible as it ignores duplicated words\n",
    "print(\"Token_Set_Ratio:\",fuzz.token_set_ratio(quer1,quer))\n",
    "#Simple ratio but handleslower and upper cases and some other parameters too.\n",
    "print(\"W_Ratio:\",fuzz.WRatio(quer1,quer))"
   ]
  },
  {
   "cell_type": "code",
   "execution_count": null,
   "metadata": {},
   "outputs": [],
   "source": []
  }
 ],
 "metadata": {
  "kernelspec": {
   "display_name": "Python 3",
   "language": "python",
   "name": "python3"
  },
  "language_info": {
   "codemirror_mode": {
    "name": "ipython",
    "version": 3
   },
   "file_extension": ".py",
   "mimetype": "text/x-python",
   "name": "python",
   "nbconvert_exporter": "python",
   "pygments_lexer": "ipython3",
   "version": "3.7.4"
  }
 },
 "nbformat": 4,
 "nbformat_minor": 2
}
